{
  "nbformat": 4,
  "nbformat_minor": 0,
  "metadata": {
    "colab": {
      "provenance": []
    },
    "kernelspec": {
      "name": "python3",
      "display_name": "Python 3"
    },
    "language_info": {
      "name": "python"
    }
  },
  "cells": [
    {
      "cell_type": "code",
      "source": [
        "import numpy as np\n",
        "import matplotlib.pyplot as plt\n",
        "X=np.array([[0.5,1.5],[0.55,1.8],[0.6,1.9],[0.65,2.2],[1.5,4.5],[1.55,4.8],[1.6,4.9],[1.65,4.2]])\n",
        "y=[1,1,1,1,0,0,0,0]\n",
        "X_test = np.array([[1.5,3.2]])"
      ],
      "metadata": {
        "id": "cAfn8ZhjLEw-"
      },
      "execution_count": null,
      "outputs": []
    },
    {
      "cell_type": "code",
      "source": [
        "plt.scatter(X[:,0], X[:,1],c=y)\n",
        "plt.xlabel(\"X-axis\")\n",
        "plt.ylabel(\"Y-axis\")\n",
        "plt.title(\"Scatter plot of X and y\")\n",
        "plt.show()"
      ],
      "metadata": {
        "id": "FWidFbIELG3d"
      },
      "execution_count": null,
      "outputs": []
    },
    {
      "cell_type": "code",
      "source": [
        "# Calculate distances and pair with labels in a more concise way\n",
        "distances_with_labels = [(np.linalg.norm(x - X_test), label) for x, label in zip(X, y)]\n",
        "print(distances_with_labels)"
      ],
      "metadata": {
        "colab": {
          "base_uri": "https://localhost:8080/"
        },
        "id": "Gj6XB5mQLJTV",
        "outputId": "143e6716-a0d8-47bc-fbd9-00b1be4f4703"
      },
      "execution_count": null,
      "outputs": [
        {
          "output_type": "stream",
          "name": "stdout",
          "text": [
            "[(np.float64(1.9723082923316022), 1), (np.float64(1.691892431568863), 1), (np.float64(1.58113883008419), 1), (np.float64(1.3124404748406686), 1), (np.float64(1.2999999999999998), 0), (np.float64(1.6007810593582117), 0), (np.float64(1.7029386365926404), 0), (np.float64(1.0111874208078342), 0)]\n"
          ]
        }
      ]
    },
    {
      "cell_type": "code",
      "source": [
        "# Sort the distances with labels\n",
        "sort_distance_new = sorted(distances_with_labels, key=lambda item: item[0])\n",
        "print(sort_distance_new)"
      ],
      "metadata": {
        "colab": {
          "base_uri": "https://localhost:8080/"
        },
        "id": "gHIrkUG6LMfF",
        "outputId": "a250c90a-32c5-4424-9779-85c949c28286"
      },
      "execution_count": null,
      "outputs": [
        {
          "output_type": "stream",
          "name": "stdout",
          "text": [
            "[(np.float64(1.0111874208078342), 0), (np.float64(1.2999999999999998), 0), (np.float64(1.3124404748406686), 1), (np.float64(1.58113883008419), 1), (np.float64(1.6007810593582117), 0), (np.float64(1.691892431568863), 1), (np.float64(1.7029386365926404), 0), (np.float64(1.9723082923316022), 1)]\n"
          ]
        }
      ]
    },
    {
      "cell_type": "code",
      "source": [
        "from collections import Counter\n",
        "\n",
        "k = 3\n",
        "# Get the top k neighbors' labels directly\n",
        "top_k_labels = [label for distance, label in sort_distance_new[:k]]\n",
        "\n",
        "# Find the most frequent label\n",
        "most_frequent_y = Counter(top_k_labels).most_common(1)[0][0]\n",
        "\n",
        "print(f\"Top {k} nearest neighbors (distance, y):\")\n",
        "print(sort_distance_new[:k])\n",
        "print(f\"Most frequent y-value among the top {k} neighbors: {most_frequent_y}\")\n",
        "print(\"Hence y belongs to \", most_frequent_y)"
      ],
      "metadata": {
        "colab": {
          "base_uri": "https://localhost:8080/"
        },
        "id": "99apW7IOMO_t",
        "outputId": "5ae275d9-f366-452d-e8c0-53ab25e24636"
      },
      "execution_count": null,
      "outputs": [
        {
          "output_type": "stream",
          "name": "stdout",
          "text": [
            "Top 3 nearest neighbors (distance, y):\n",
            "[(np.float64(1.0111874208078342), 0), (np.float64(1.2999999999999998), 0), (np.float64(1.3124404748406686), 1)]\n",
            "Most frequent y-value among the top 3 neighbors: 0\n",
            "Hence y belongs to  0\n"
          ]
        }
      ]
    },
    {
      "cell_type": "code",
      "metadata": {
        "colab": {
          "base_uri": "https://localhost:8080/"
        },
        "id": "5afad041",
        "outputId": "a9782f50-4516-41b0-98d2-152a25d31aca"
      },
      "source": [
        "print(f\"The predicted class for X_test is: {most_frequent_y}\")"
      ],
      "execution_count": null,
      "outputs": [
        {
          "output_type": "stream",
          "name": "stdout",
          "text": [
            "The predicted class for X_test is: 0\n"
          ]
        }
      ]
    },
    {
      "cell_type": "code",
      "metadata": {
        "colab": {
          "base_uri": "https://localhost:8080/"
        },
        "id": "b2b785b4",
        "outputId": "f510d188-f406-4757-dc50-5a375073f800"
      },
      "source": [
        "def knn(X_train, y_train, X_test_point, k):\n",
        "    distances = [(np.linalg.norm(X_test_point - x), y) for x, y in zip(X_train, y_train)]\n",
        "    sorted_distances = sorted(distances, key=lambda item: item[0])\n",
        "    top_k_neighbors = sorted_distances[:k]\n",
        "    top_k_labels = [label for distance, label in top_k_neighbors]\n",
        "    most_frequent_label = Counter(top_k_labels).most_common(1)[0][0]\n",
        "    return most_frequent_label\n",
        "\n",
        "# Example usage (using the X and y defined earlier)\n",
        "predicted_class = knn(X, y, X_test, k)\n",
        "print(f\"The predicted class for X_test using the knn function is: {predicted_class}\")"
      ],
      "execution_count": null,
      "outputs": [
        {
          "output_type": "stream",
          "name": "stdout",
          "text": [
            "The predicted class for X_test using the knn function is: 0\n"
          ]
        }
      ]
    },
    {
      "cell_type": "code",
      "metadata": {
        "colab": {
          "base_uri": "https://localhost:8080/",
          "height": 472
        },
        "id": "28f81427",
        "outputId": "1744f548-04f5-418a-cf5c-f2c753378bf6"
      },
      "source": [
        "# Re-plot the training data\n",
        "plt.scatter(X[:, 0], X[:, 1], c=y, label='Training Data')\n",
        "\n",
        "# Plot the multiple test points with their predicted classes\n",
        "X_test_multiple = np.array([[1.5, 3.2], [0.7, 2.0], [1.0, 4.0]])\n",
        "predicted_classes_multiple = [knn(X, y, point, k) for point in X_test_multiple]\n",
        "\n",
        "plt.scatter(X_test_multiple[:, 0], X_test_multiple[:, 1], c=predicted_classes_multiple, marker='X', s=100, label='Test Data Predictions')\n",
        "\n",
        "plt.xlabel(\"X-axis\")\n",
        "plt.ylabel(\"Y-axis\")\n",
        "plt.title(\"Scatter plot of Training and Test Data with KNN Predictions\")\n",
        "plt.legend()\n",
        "plt.show()"
      ],
      "execution_count": null,
      "outputs": [
        {
          "output_type": "display_data",
          "data": {
            "text/plain": [
              "<Figure size 640x480 with 1 Axes>"
            ],
            "image/png": "[encoded data removed]"
          },
          "metadata": {}
        }
      ]
    }
  ]
}