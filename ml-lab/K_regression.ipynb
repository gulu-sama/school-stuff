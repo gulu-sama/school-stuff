{
  "cells": [
    {
      "cell_type": "markdown",
      "source": [
        "# KNN(K_nearest_neighbour)----regression"
      ],
      "metadata": {
        "id": "lbcvom51SDaX"
      },
      "id": "lbcvom51SDaX"
    },
    {
      "cell_type": "code",
      "execution_count": null,
      "id": "9399d68e-132b-4261-98f1-d1dc4154233b",
      "metadata": {
        "colab": {
          "base_uri": "https://localhost:8080/"
        },
        "id": "9399d68e-132b-4261-98f1-d1dc4154233b",
        "outputId": "95cffef0-a402-4caf-f955-675b5fadd4b0"
      },
      "outputs": [
        {
          "output_type": "stream",
          "name": "stdout",
          "text": [
            "[[0.5  1.5 ]\n",
            " [0.55 1.8 ]\n",
            " [0.6  1.9 ]\n",
            " [0.65 2.2 ]\n",
            " [1.5  4.5 ]\n",
            " [1.55 4.8 ]\n",
            " [1.6  4.9 ]\n",
            " [1.65 4.2 ]]\n"
          ]
        }
      ],
      "source": [
        "import numpy as np\n",
        "import matplotlib.pyplot as plt\n",
        "\n",
        "x=np.array([[0.5,1.5],[0.55,1.8],[0.6,1.9],[0.65,2.2],[1.5,4.5],[1.55,4.8],[1.6,4.9],[1.65,4.2]])\n",
        "x_t=0.7\n",
        "print(x)"
      ]
    },
    {
      "cell_type": "code",
      "execution_count": null,
      "id": "3a82b9a6-91cb-45d0-a378-3d70b78ec44a",
      "metadata": {
        "colab": {
          "base_uri": "https://localhost:8080/",
          "height": 472
        },
        "id": "3a82b9a6-91cb-45d0-a378-3d70b78ec44a",
        "outputId": "7c980508-77bc-49e6-a4ca-e97c4a5b696b"
      },
      "outputs": [
        {
          "output_type": "display_data",
          "data": {
            "text/plain": [
              "<Figure size 640x480 with 1 Axes>"
            ],
            "image/png": "[encoded data removed]"
          },
          "metadata": {}
        }
      ],
      "source": [
        "plt.scatter(x[:, 0], x[:, 1])\n",
        "plt.xlabel('X-axis')\n",
        "plt.ylabel('Y-axis')\n",
        "plt.title('Plot of X array')\n",
        "plt.grid(True)\n",
        "plt.show()"
      ]
    },
    {
      "cell_type": "code",
      "source": [
        "x_c=x[:,0]\n",
        "print(x_c)"
      ],
      "metadata": {
        "colab": {
          "base_uri": "https://localhost:8080/"
        },
        "id": "EXDlWnFyQ_BJ",
        "outputId": "2877d8a4-f9ae-426b-86b3-a50594146c31"
      },
      "id": "EXDlWnFyQ_BJ",
      "execution_count": null,
      "outputs": [
        {
          "output_type": "stream",
          "name": "stdout",
          "text": [
            "[0.5  0.55 0.6  0.65 1.5  1.55 1.6  1.65]\n"
          ]
        }
      ]
    },
    {
      "cell_type": "code",
      "execution_count": null,
      "id": "7f18f020-5276-4027-9b99-fc670e48bf8c",
      "metadata": {
        "colab": {
          "base_uri": "https://localhost:8080/"
        },
        "id": "7f18f020-5276-4027-9b99-fc670e48bf8c",
        "outputId": "ef64f5bd-46c0-4dea-d3ef-7649d3dddcf4"
      },
      "outputs": [
        {
          "output_type": "stream",
          "name": "stdout",
          "text": [
            "distance between0.5 and 0.7 is 0.2000\n",
            "distance between0.55 and 0.7 is 0.1500\n",
            "distance between0.6 and 0.7 is 0.1000\n",
            "distance between0.65 and 0.7 is 0.0500\n",
            "distance between1.5 and 0.7 is 0.8000\n",
            "distance between1.55 and 0.7 is 0.8500\n",
            "distance between1.6 and 0.7 is 0.9000\n",
            "distance between1.65 and 0.7 is 0.9500\n"
          ]
        }
      ],
      "source": [
        "distance=np.abs(x_c-x_t)\n",
        "for i in range(len(distance)):\n",
        "    print(f\"distance between{x_c[i]} and {x_t} is {distance[i]:.4f}\")"
      ]
    },
    {
      "cell_type": "code",
      "execution_count": null,
      "id": "c82dd8a0-525e-4d81-9bf8-5e6711343222",
      "metadata": {
        "colab": {
          "base_uri": "https://localhost:8080/"
        },
        "id": "c82dd8a0-525e-4d81-9bf8-5e6711343222",
        "outputId": "d2508260-2351-4680-fa11-f9af1405336a"
      },
      "outputs": [
        {
          "output_type": "stream",
          "name": "stdout",
          "text": [
            "Combined array :\n",
            "[[0.5  1.5  0.2 ]\n",
            " [0.55 1.8  0.15]\n",
            " [0.6  1.9  0.1 ]\n",
            " [0.65 2.2  0.05]\n",
            " [1.5  4.5  0.8 ]\n",
            " [1.55 4.8  0.85]\n",
            " [1.6  4.9  0.9 ]\n",
            " [1.65 4.2  0.95]]\n"
          ]
        }
      ],
      "source": [
        "distance = distance.reshape(-1, 1)\n",
        "combined_array = np.hstack((x,distance))\n",
        "print(\"Combined array :\")\n",
        "print(combined_array)"
      ]
    },
    {
      "cell_type": "code",
      "execution_count": null,
      "id": "09a32923-923d-4f9b-b9b1-b6150f171947",
      "metadata": {
        "colab": {
          "base_uri": "https://localhost:8080/"
        },
        "id": "09a32923-923d-4f9b-b9b1-b6150f171947",
        "outputId": "f90240a6-015d-47a7-a0a1-b7f469efe31f"
      },
      "outputs": [
        {
          "output_type": "stream",
          "name": "stdout",
          "text": [
            "[[0.65 2.2  0.05]\n",
            " [0.6  1.9  0.1 ]\n",
            " [0.55 1.8  0.15]\n",
            " [0.5  1.5  0.2 ]\n",
            " [1.5  4.5  0.8 ]\n",
            " [1.55 4.8  0.85]\n",
            " [1.6  4.9  0.9 ]\n",
            " [1.65 4.2  0.95]]\n"
          ]
        }
      ],
      "source": [
        "sorted_combined_array = combined_array[combined_array[:, 2].argsort()]\n",
        "print(sorted_combined_array)"
      ]
    },
    {
      "cell_type": "code",
      "execution_count": null,
      "id": "f077762b-fb78-4655-9b2f-fb007b4ae5c3",
      "metadata": {
        "colab": {
          "base_uri": "https://localhost:8080/"
        },
        "id": "f077762b-fb78-4655-9b2f-fb007b4ae5c3",
        "outputId": "435f12a4-c48a-4d9f-9f9c-1adab28821b5"
      },
      "outputs": [
        {
          "output_type": "stream",
          "name": "stdout",
          "text": [
            "Top 3 nearest neighbors (distance, label):\n",
            "[[0.65 2.2  0.05]\n",
            " [0.6  1.9  0.1 ]\n",
            " [0.55 1.8  0.15]]\n"
          ]
        }
      ],
      "source": [
        "k = 3\n",
        "nearest_neighbors_array = sorted_combined_array[:k]\n",
        "\n",
        "print(f\"Top {k} nearest neighbors (distance, label):\")\n",
        "print(nearest_neighbors_array)"
      ]
    },
    {
      "cell_type": "code",
      "execution_count": null,
      "id": "7eea707d-bd91-4ca2-9f46-bc7a74beeb57",
      "metadata": {
        "colab": {
          "base_uri": "https://localhost:8080/"
        },
        "id": "7eea707d-bd91-4ca2-9f46-bc7a74beeb57",
        "outputId": "817c1d9b-a777-456c-b5f8-e437e80f7876"
      },
      "outputs": [
        {
          "output_type": "stream",
          "name": "stdout",
          "text": [
            "[2.2 1.9 1.8]\n",
            "1.9666666666666666\n"
          ]
        }
      ],
      "source": [
        "y_c_avg=(nearest_neighbors_array[:,1])\n",
        "print(y_c_avg)\n",
        "avg=np.mean(y_c_avg)\n",
        "print(avg)\n"
      ]
    },
    {
      "cell_type": "code",
      "source": [
        "plt.scatter(x[:, 0], x[:, 1])\n",
        "plt.scatter(x_t,avg,color='red',marker='*')\n",
        "plt.xlabel('X-axis')\n",
        "plt.ylabel('Y-axis')\n",
        "plt.title('Plot of X array')\n",
        "plt.grid(True)\n",
        "plt.show()"
      ],
      "metadata": {
        "colab": {
          "base_uri": "https://localhost:8080/",
          "height": 472
        },
        "id": "cKk8pRiNROUR",
        "outputId": "46331d6e-6477-4787-d809-0992ff237a4b"
      },
      "id": "cKk8pRiNROUR",
      "execution_count": null,
      "outputs": [
        {
          "output_type": "display_data",
          "data": {
            "text/plain": [
              "<Figure size 640x480 with 1 Axes>"
            ],
            "image/png": "[encoded data removed]"
          },
          "metadata": {}
        }
      ]
    }
  ],
  "metadata": {
    "kernelspec": {
      "display_name": "Python 3 (ipykernel)",
      "language": "python",
      "name": "python3"
    },
    "language_info": {
      "codemirror_mode": {
        "name": "ipython",
        "version": 3
      },
      "file_extension": ".py",
      "mimetype": "text/x-python",
      "name": "python",
      "nbconvert_exporter": "python",
      "pygments_lexer": "ipython3",
      "version": "3.9.21"
    },
    "colab": {
      "provenance": []
    }
  },
  "nbformat": 4,
  "nbformat_minor": 5
}