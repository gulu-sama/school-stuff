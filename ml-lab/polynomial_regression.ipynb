{
  "nbformat": 4,
  "nbformat_minor": 0,
  "metadata": {
    "colab": {
      "provenance": []
    },
    "kernelspec": {
      "name": "python3",
      "display_name": "Python 3"
    },
    "language_info": {
      "name": "python"
    }
  },
  "cells": [
    {
      "cell_type": "code",
      "source": [
        "import numpy as np\n",
        "import matplotlib.pyplot as plt\n",
        "\n",
        "t = np.linspace(0, 60, 10).reshape(-1, 1)\n",
        "S = 5 * t + 0.5 * 4 * t**2\n",
        "\n",
        "X = np.concatenate((t, t**2), axis=1)\n",
        "y=S.reshape(-1,1)\n",
        "print(X)\n",
        "print(y)"
      ],
      "metadata": {
        "colab": {
          "base_uri": "https://localhost:8080/"
        },
        "id": "qKQv6C804R0q",
        "outputId": "7123e732-d27f-493a-e9f7-b3c0a1dd55ce"
      },
      "execution_count": null,
      "outputs": [
        {
          "output_type": "stream",
          "name": "stdout",
          "text": [
            "[[   0.            0.        ]\n",
            " [   6.66666667   44.44444444]\n",
            " [  13.33333333  177.77777778]\n",
            " [  20.          400.        ]\n",
            " [  26.66666667  711.11111111]\n",
            " [  33.33333333 1111.11111111]\n",
            " [  40.         1600.        ]\n",
            " [  46.66666667 2177.77777778]\n",
            " [  53.33333333 2844.44444444]\n",
            " [  60.         3600.        ]]\n",
            "[[   0.        ]\n",
            " [ 122.22222222]\n",
            " [ 422.22222222]\n",
            " [ 900.        ]\n",
            " [1555.55555556]\n",
            " [2388.88888889]\n",
            " [3400.        ]\n",
            " [4588.88888889]\n",
            " [5955.55555556]\n",
            " [7500.        ]]\n"
          ]
        }
      ]
    },
    {
      "cell_type": "code",
      "source": [
        "LR=0.09\n",
        "INIT=-10\n",
        "ITER=100"
      ],
      "metadata": {
        "id": "RkJM59CO6Ck6"
      },
      "execution_count": null,
      "outputs": []
    },
    {
      "cell_type": "code",
      "source": [
        "def feature_scaling(X):\n",
        "    mean=np.mean(X,axis=0)\n",
        "    std=np.std(X,axis=0)\n",
        "    X_scale=(X-mean)/std\n",
        "    return X_scale , mean,std"
      ],
      "metadata": {
        "id": "_7HjsjkK5c7D"
      },
      "execution_count": null,
      "outputs": []
    },
    {
      "cell_type": "code",
      "source": [
        "X_scaled, mean_X, std_X = feature_scaling(X)\n",
        "y_scaled, mean_y, std_y = feature_scaling(y)\n",
        "print(X_scaled)\n",
        "print(y_scaled)\n",
        "X_scaled = np.concatenate((np.ones((X_scaled.shape[0], 1)), X_scaled), axis=1)\n",
        "print(X_scaled)"
      ],
      "metadata": {
        "colab": {
          "base_uri": "https://localhost:8080/"
        },
        "id": "G6tgj7__6lph",
        "outputId": "4d3e26ca-81d3-48ef-90da-7fd2885585ef"
      },
      "execution_count": null,
      "outputs": [
        {
          "output_type": "stream",
          "name": "stdout",
          "text": [
            "[[-1.5666989  -1.06135866]\n",
            " [-1.21854359 -1.02411801]\n",
            " [-0.87038828 -0.91239604]\n",
            " [-0.52223297 -0.72619277]\n",
            " [-0.17407766 -0.46550819]\n",
            " [ 0.17407766 -0.13034229]\n",
            " [ 0.52223297  0.27930491]\n",
            " [ 0.87038828  0.76343342]\n",
            " [ 1.21854359  1.32204325]\n",
            " [ 1.5666989   1.95513438]]\n",
            "[[-1.0823455 ]\n",
            " [-1.03304612]\n",
            " [-0.91203855]\n",
            " [-0.71932279]\n",
            " [-0.45489883]\n",
            " [-0.11876669]\n",
            " [ 0.28907364]\n",
            " [ 0.76862217]\n",
            " [ 1.31987888]\n",
            " [ 1.94284379]]\n",
            "[[ 1.         -1.5666989  -1.06135866]\n",
            " [ 1.         -1.21854359 -1.02411801]\n",
            " [ 1.         -0.87038828 -0.91239604]\n",
            " [ 1.         -0.52223297 -0.72619277]\n",
            " [ 1.         -0.17407766 -0.46550819]\n",
            " [ 1.          0.17407766 -0.13034229]\n",
            " [ 1.          0.52223297  0.27930491]\n",
            " [ 1.          0.87038828  0.76343342]\n",
            " [ 1.          1.21854359  1.32204325]\n",
            " [ 1.          1.5666989   1.95513438]]\n"
          ]
        }
      ]
    },
    {
      "cell_type": "code",
      "metadata": {
        "id": "967a02f7",
        "colab": {
          "base_uri": "https://localhost:8080/"
        },
        "outputId": "ae368704-d01f-4404-a6f1-7dd41e847c30"
      },
      "source": [
        "def poly_reg_grad_des(X, y, learn_r=0.09, num_iter=100):\n",
        "    m, n = X.shape\n",
        "    theta = np.zeros((n, 1)) - INIT\n",
        "    cost_history = []\n",
        "\n",
        "    for i in range(num_iter):\n",
        "        pred = X.dot(theta)\n",
        "        error = pred - y\n",
        "        grad=(1/m) * X.T.dot(error)\n",
        "        theta-=learn_r*grad\n",
        "        cost=np.mean(error **2)\n",
        "        cost_history.append(cost)\n",
        "\n",
        "\n",
        "\n",
        "    return theta, cost_history\n",
        "theta, cost_history = poly_reg_grad_des(X_scaled, y_scaled)\n",
        "print(theta)\n",
        "print(cost_history)\n",
        "\n",
        "\n",
        "y_pred=X_scaled.dot(theta)\n",
        "print(\"y_pred\",y_pred,\"y\",y_scaled)"
      ],
      "execution_count": null,
      "outputs": [
        {
          "output_type": "stream",
          "name": "stdout",
          "text": [
            "[[0.00080194]\n",
            " [0.36871275]\n",
            " [0.63267354]]\n",
            "[np.float64(454.2299180034121), np.float64(322.95390545355184), np.float64(231.37785736447722), np.float64(167.158916453368), np.float64(121.85335003079578), np.float64(89.67382620305268), np.float64(66.64469466557257), np.float64(50.02746952235839), np.float64(37.92980784505619), np.float64(29.039149047927157), np.float64(22.441084138935167), np.float64(17.495347112657235), np.float64(13.751020336500687), np.float64(10.88844877319158), np.float64(8.679364086409674), np.float64(6.959439247184062), np.float64(5.609340962716674), np.float64(4.541601695579637), np.float64(3.6914855499590997), np.float64(3.0106019691437047), np.float64(2.4624155934978624), np.float64(2.0190691932282046), np.float64(1.659119641432462), np.float64(1.365911803184224), np.float64(1.1264005715249916), np.float64(0.9302897049660764), np.float64(0.7693961913033761), np.float64(0.6371764108485513), np.float64(0.5283693656504962), np.float64(0.4387253806165976), np.float64(0.364797807890474), np.float64(0.30378163271899217), np.float64(0.253387344792151), np.float64(0.21174159027867323), np.float64(0.17730835860254637), np.float64(0.14882606065756632), np.float64(0.1252570119405529), np.float64(0.10574667651790257), np.float64(0.08959064706121096), np.float64(0.07620779596747418), np.float64(0.0651183773391261), np.float64(0.055926120700580784), np.float64(0.04830355700880816), np.float64(0.041979971660306405), np.float64(0.03673149924411005), np.float64(0.03237296904940419), np.float64(0.028751184899353376), np.float64(0.025739382260583744), np.float64(0.02323265314335104), np.float64(0.021144167608307993), np.float64(0.01940205167504338), np.float64(0.017946806581387836), np.float64(0.016729174833334647), np.float64(0.015708375224066574), np.float64(0.014850642706041531), np.float64(0.014128020243957975), np.float64(0.013517359015863229), np.float64(0.012999490932307215), np.float64(0.012558543706282215), np.float64(0.012181373870636673), np.float64(0.011857097400792481), np.float64(0.011576701118993704), np.float64(0.011332720962950146), np.float64(0.01111897560401261), np.float64(0.010930345886144404), np.float64(0.010762592199501396), np.float64(0.010612203261158127), np.float64(0.010476270899682952), np.float64(0.010352386370512109), np.float64(0.010238554498952116), np.float64(0.010133122584868065), np.float64(0.010034721530592873), np.float64(0.009942217090254609), np.float64(0.009854669500222627), np.float64(0.009771300049667942), np.float64(0.009691463398035845), np.float64(0.009614624651403293), np.float64(0.009540340379578705), np.float64(0.0094682428964692), np.float64(0.009398027242718312), np.float64(0.009329440406065998), np.float64(0.009262272394747261), np.float64(0.009196348845379499), np.float64(0.009131524901551256), np.float64(0.009067680144672952), np.float64(0.009004714396201877), np.float64(0.008942544241449744), np.float64(0.00888110015093083), np.float64(0.008820324096532602), np.float64(0.008760167577447898), np.float64(0.008700589985430388), np.float64(0.008641557251043307), np.float64(0.008583040722598554), np.float64(0.008525016237786783), np.float64(0.008467463354874711), np.float64(0.008410364716040212), np.float64(0.008353705520130823), np.float64(0.008297473086035786), np.float64(0.008241656491095265), np.float64(0.008186246271647966)]\n",
            "y_pred [[-1.24835348]\n",
            " [-1.096423  ]\n",
            " [-0.89737016]\n",
            " [-0.65119497]\n",
            " [-0.35789743]\n",
            " [-0.01747753]\n",
            " [ 0.37006472]\n",
            " [ 0.80472932]\n",
            " [ 1.28651628]\n",
            " [ 1.8154256 ]] y [[-1.0823455 ]\n",
            " [-1.03304612]\n",
            " [-0.91203855]\n",
            " [-0.71932279]\n",
            " [-0.45489883]\n",
            " [-0.11876669]\n",
            " [ 0.28907364]\n",
            " [ 0.76862217]\n",
            " [ 1.31987888]\n",
            " [ 1.94284379]]\n"
          ]
        }
      ]
    },
    {
      "cell_type": "code",
      "source": [
        "plt.scatter(t, y_scaled, label='Original Data')\n",
        "plt.plot(t, y_pred, color='purple', label='Best Fit Line')\n",
        "plt.xlabel('t')\n",
        "plt.ylabel('S')\n",
        "plt.title('Polynomial Regression Fit')\n",
        "plt.legend()\n",
        "plt.show()"
      ],
      "metadata": {
        "colab": {
          "base_uri": "https://localhost:8080/",
          "height": 472
        },
        "id": "M5B2SfGxAWeU",
        "outputId": "d4509e6f-1fbf-426a-87cf-8b992c205f87"
      },
      "execution_count": null,
      "outputs": [
        {
          "output_type": "display_data",
          "data": {
            "text/plain": [
              "<Figure size 640x480 with 1 Axes>"
            ],
            "image/png": "[encoded data removed]"
          },
          "metadata": {}
        }
      ]
    },
    {
      "cell_type": "code",
      "source": [
        "plt.plot(range(len(cost_history)), cost_history, color='red')\n",
        "plt.xlabel('Iteration')\n",
        "plt.ylabel('Cost')\n",
        "plt.title('Cost Function Over Iterations')\n",
        "plt.show()"
      ],
      "metadata": {
        "colab": {
          "base_uri": "https://localhost:8080/",
          "height": 472
        },
        "id": "e5-xnwjqAesW",
        "outputId": "17293d83-6b26-4d6f-f232-925766cf225c"
      },
      "execution_count": null,
      "outputs": [
        {
          "output_type": "display_data",
          "data": {
            "text/plain": [
              "<Figure size 640x480 with 1 Axes>"
            ],
            "image/png": "[encoded data removed]"
          },
          "metadata": {}
        }
      ]
    },
    {
      "cell_type": "code",
      "source": [
        "from sklearn.linear_model import LinearRegression\n",
        "reg = LinearRegression().fit(X,y )\n",
        "print(\"Coefficients:\", reg.coef_)\n",
        "print(\"Intercept:\", reg.intercept_)\n",
        "print(theta)"
      ],
      "metadata": {
        "colab": {
          "base_uri": "https://localhost:8080/"
        },
        "id": "tGETfBU3AmwM",
        "outputId": "cddba704-fd1c-4c05-f74b-253b73bb874d"
      },
      "execution_count": null,
      "outputs": [
        {
          "output_type": "stream",
          "name": "stdout",
          "text": [
            "Coefficients: [[5. 2.]]\n",
            "Intercept: [9.09494702e-13]\n",
            "[[0.00080194]\n",
            " [0.36871275]\n",
            " [0.63267354]]\n"
          ]
        }
      ]
    },
    {
      "cell_type": "code",
      "source": [
        "import numpy as np\n",
        "import matplotlib.pyplot as plt\n",
        "from sklearn.linear_model import LinearRegression\n",
        "\n",
        "t = np.linspace(0, 60, 10).reshape(-1, 1)\n",
        "S = 5 * t + 0.5 * 4 * t**2\n",
        "\n",
        "X = np.concatenate((t, t**2), axis=1)\n",
        "y = S.reshape(-1,1)\n",
        "print(X)\n",
        "print(y)\n",
        "\n",
        "def feature_scaling(X):\n",
        "    mean = np.mean(X, axis=0)\n",
        "    std = np.std(X, axis=0)\n",
        "    X_scaled = (X - mean) / std\n",
        "    return X_scaled, mean, std\n",
        "\n",
        "X_scaled, mean_X, std_X = feature_scaling(X)\n",
        "y_scaled, mean_y, std_y = feature_scaling(y)\n",
        "\n",
        "\n",
        "X_scaled = np.concatenate((np.ones((X_scaled.shape[0], 1)), X_scaled), axis=1)\n",
        "\n",
        "\n",
        "LR = 0.05\n",
        "INIT = -10\n",
        "ITER = 2000\n",
        "\n",
        "def poly_reg_grad_des(X, y, learn_r=LR, num_iter=ITER):\n",
        "    m, n = X.shape\n",
        "    theta = np.zeros((n, 1)) - INIT\n",
        "    cost_history = []\n",
        "\n",
        "    for i in range(num_iter):\n",
        "        pred = X.dot(theta)\n",
        "        error = pred - y\n",
        "        grad = (1/m) * X.T.dot(error)\n",
        "        theta -= learn_r * grad\n",
        "        cost = np.mean(error ** 2)\n",
        "        cost_history.append(cost)\n",
        "\n",
        "    return theta, cost_history\n",
        "\n",
        "theta_scaled, cost_history = poly_reg_grad_des(X_scaled, y_scaled)\n",
        "\n",
        "# --- Rescale theta back to original space ---\n",
        "theta_1_orig = theta_scaled[1][0] * (std_y[0] / std_X[0])  # coefficient of t\n",
        "theta_2_orig = theta_scaled[2][0] * (std_y[0] / std_X[1])  # coefficient of t^2\n",
        "\n",
        "intercept_orig = mean_y[0] + std_y[0] * theta_scaled[0][0] \\\n",
        "                 - theta_1_orig * mean_X[0] - theta_2_orig * mean_X[1]\n",
        "\n",
        "theta_orig = np.array([intercept_orig, theta_1_orig, theta_2_orig])\n",
        "\n",
        "print(\"\\n--- Theta in Original Space ---\")\n",
        "print(\"Intercept:\", intercept_orig)\n",
        "print(\"t Coefficient:\", theta_1_orig)\n",
        "print(\"t^2 Coefficient:\", theta_2_orig)\n",
        "\n",
        "\n",
        "y_pred = theta_orig[0] + theta_orig[1] * t + theta_orig[2] * t**2\n",
        "print(\"\\nPredicted y:\\n\", y_pred)\n",
        "print(\"\\nActual y:\\n\", y)\n",
        "print(\"\\n[Gradient Descent]\")\n",
        "print(\"Intercept:\", theta_orig[0])\n",
        "print(\"t Coefficient:\", theta_orig[1])\n",
        "print(\"t^2 Coefficient:\", theta_orig[2])\n",
        "\n",
        "\n",
        "reg = LinearRegression().fit(X,y )\n",
        "intercept_sklearn = reg.intercept_[0]\n",
        "theta1_sklearn = reg.coef_[0][0]\n",
        "theta2_sklearn = reg.coef_[0][1]\n",
        "\n",
        "print(\"\\n[Sklearn LinearRegression]\")\n",
        "print(\"Intercept:\", intercept_sklearn)\n",
        "print(\"t Coefficient:\", theta1_sklearn)\n",
        "print(\"t^2 Coefficient:\", theta2_sklearn)"
      ],
      "metadata": {
        "colab": {
          "base_uri": "https://localhost:8080/"
        },
        "id": "yZQJg_XyiG23",
        "outputId": "0e8dfccb-ebaa-465e-b814-9f233462d7d6"
      },
      "execution_count": null,
      "outputs": [
        {
          "output_type": "stream",
          "name": "stdout",
          "text": [
            "[[   0.            0.        ]\n",
            " [   6.66666667   44.44444444]\n",
            " [  13.33333333  177.77777778]\n",
            " [  20.          400.        ]\n",
            " [  26.66666667  711.11111111]\n",
            " [  33.33333333 1111.11111111]\n",
            " [  40.         1600.        ]\n",
            " [  46.66666667 2177.77777778]\n",
            " [  53.33333333 2844.44444444]\n",
            " [  60.         3600.        ]]\n",
            "[[   0.        ]\n",
            " [ 122.22222222]\n",
            " [ 422.22222222]\n",
            " [ 900.        ]\n",
            " [1555.55555556]\n",
            " [2388.88888889]\n",
            " [3400.        ]\n",
            " [4588.88888889]\n",
            " [5955.55555556]\n",
            " [7500.        ]]\n",
            "\n",
            "--- Theta in Original Space ---\n",
            "Intercept: -13.828359468080635\n",
            "t Coefficient: 6.42906197417381\n",
            "t^2 Coefficient: 1.9770709212443682\n",
            "\n",
            "Predicted y:\n",
            " [[ -13.82835947]\n",
            " [ 116.90187242]\n",
            " [ 423.37174174]\n",
            " [ 905.58124851]\n",
            " [1563.53039273]\n",
            " [2397.21917439]\n",
            " [3406.64759349]\n",
            " [4591.81565004]\n",
            " [5952.72334403]\n",
            " [7489.37067546]]\n",
            "\n",
            "Actual y:\n",
            " [[   0.        ]\n",
            " [ 122.22222222]\n",
            " [ 422.22222222]\n",
            " [ 900.        ]\n",
            " [1555.55555556]\n",
            " [2388.88888889]\n",
            " [3400.        ]\n",
            " [4588.88888889]\n",
            " [5955.55555556]\n",
            " [7500.        ]]\n",
            "\n",
            "[Gradient Descent]\n",
            "Intercept: -13.828359468080635\n",
            "t Coefficient: 6.42906197417381\n",
            "t^2 Coefficient: 1.9770709212443682\n",
            "\n",
            "[Sklearn LinearRegression]\n",
            "Intercept: 9.094947017729282e-13\n",
            "t Coefficient: 4.999999999999972\n",
            "t^2 Coefficient: 2.0\n"
          ]
        }
      ]
    }
  ]
}