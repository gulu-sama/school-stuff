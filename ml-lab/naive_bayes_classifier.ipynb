{
  "cells": [
    {
      "cell_type": "code",
      "execution_count": null,
      "id": "f1ca9b03-3b0c-44f5-8cf1-9b8ba84bfc5b",
      "metadata": {
        "id": "f1ca9b03-3b0c-44f5-8cf1-9b8ba84bfc5b"
      },
      "outputs": [],
      "source": [
        "import numpy as np"
      ]
    },
    {
      "cell_type": "code",
      "execution_count": null,
      "id": "62583672-5fc0-4c2e-8f09-d48cd02aa11d",
      "metadata": {
        "id": "62583672-5fc0-4c2e-8f09-d48cd02aa11d"
      },
      "outputs": [],
      "source": [
        "import matplotlib.pyplot as plt"
      ]
    },
    {
      "cell_type": "code",
      "execution_count": null,
      "id": "d8e37629-bf36-4cfc-b8c9-569ff3f14f24",
      "metadata": {
        "id": "d8e37629-bf36-4cfc-b8c9-569ff3f14f24"
      },
      "outputs": [],
      "source": [
        "x = np.array([[1,2,3,4,5,6,7,8,9],\n",
        "             [10,8,4,9,1,6,9,2,10]]).T\n",
        "y = np.array([0,0,0,1,1,1,0,1,0])\n",
        "Test_data = np.array([[10],[2]]).T"
      ]
    },
    {
      "cell_type": "code",
      "execution_count": null,
      "id": "60d217d6-ce26-4bbc-8d44-5eaac04e3168",
      "metadata": {
        "colab": {
          "base_uri": "https://localhost:8080/",
          "height": 449
        },
        "id": "60d217d6-ce26-4bbc-8d44-5eaac04e3168",
        "outputId": "ba52c46b-7837-4c0e-9398-829f0b04a693"
      },
      "outputs": [
        {
          "output_type": "display_data",
          "data": {
            "text/plain": [
              "<Figure size 640x480 with 1 Axes>"
            ],
            "image/png": "[encoded data removed]"
          },
          "metadata": {}
        }
      ],
      "source": [
        "plt.scatter(x[:,0], x[:,1], c = y)\n",
        "plt.scatter(Test_data[:,0], Test_data[:,1], c = 'r')\n",
        "plt.xlabel('x-axis')\n",
        "plt.ylabel('y-axis')\n",
        "plt.grid(True)\n",
        "plt.show()"
      ]
    },
    {
      "cell_type": "code",
      "execution_count": null,
      "id": "46eebe09-c5ff-4cb5-a6e4-7ff3cb27446c",
      "metadata": {
        "colab": {
          "base_uri": "https://localhost:8080/"
        },
        "id": "46eebe09-c5ff-4cb5-a6e4-7ff3cb27446c",
        "outputId": "27ba470c-72ff-4711-90d5-3edcca986904"
      },
      "outputs": [
        {
          "output_type": "execute_result",
          "data": {
            "text/plain": [
              "array([0, 1])"
            ]
          },
          "metadata": {},
          "execution_count": 5
        }
      ],
      "source": [
        "m,n = x.shape\n",
        "classes = np.unique(y)\n",
        "classes"
      ]
    },
    {
      "cell_type": "code",
      "execution_count": null,
      "id": "eca1bdaa-c576-45de-a379-866a8519a2d0",
      "metadata": {
        "colab": {
          "base_uri": "https://localhost:8080/"
        },
        "id": "eca1bdaa-c576-45de-a379-866a8519a2d0",
        "outputId": "1e8cd38f-9a03-4c4c-a277-0243602a2cb4"
      },
      "outputs": [
        {
          "output_type": "execute_result",
          "data": {
            "text/plain": [
              "2"
            ]
          },
          "metadata": {},
          "execution_count": 6
        }
      ],
      "source": [
        "n_class = len(classes)\n",
        "n_class"
      ]
    },
    {
      "cell_type": "code",
      "execution_count": null,
      "id": "b9d0b3a6-702d-427f-b50d-4d29e9b52f20",
      "metadata": {
        "id": "b9d0b3a6-702d-427f-b50d-4d29e9b52f20"
      },
      "outputs": [],
      "source": [
        "class_probs = {}\n",
        "mean_std = {}\n",
        "mean = {}\n",
        "std = {}"
      ]
    },
    {
      "cell_type": "code",
      "execution_count": null,
      "id": "b5933b18-8475-45b1-9ba3-58d0b727ca01",
      "metadata": {
        "colab": {
          "base_uri": "https://localhost:8080/"
        },
        "id": "b5933b18-8475-45b1-9ba3-58d0b727ca01",
        "outputId": "a357f5d8-00b9-4912-ce94-e759ec18e103"
      },
      "outputs": [
        {
          "output_type": "stream",
          "name": "stdout",
          "text": [
            "{np.int64(0): 0.5555555555555556, np.int64(1): 0.4444444444444444}\n"
          ]
        }
      ],
      "source": [
        "for c in classes:\n",
        "    class_probs[c] = len(y[y == c])/m\n",
        "print(class_probs)"
      ]
    },
    {
      "cell_type": "code",
      "execution_count": null,
      "id": "d10d7ff6-a05c-406b-b3ce-727b02f278ee",
      "metadata": {
        "colab": {
          "base_uri": "https://localhost:8080/"
        },
        "id": "d10d7ff6-a05c-406b-b3ce-727b02f278ee",
        "outputId": "ee1915ca-0d92-46d6-de69-611e906bc0b7"
      },
      "outputs": [
        {
          "output_type": "stream",
          "name": "stdout",
          "text": [
            "[[(np.float64(4.4), np.float64(3.0724582991474434)), (np.float64(8.2), np.float64(2.2271057451320084))], [(np.float64(5.75), np.float64(1.479019945774904)), (np.float64(4.5), np.float64(3.2015621187164243))]]\n",
            "(np.float64(4.4), np.float64(3.0724582991474434))\n"
          ]
        }
      ],
      "source": [
        "for c in classes:\n",
        "    x_c = x[y == c]\n",
        "    mean_std[c] = [(x_c[:,i].mean(), x_c[:,i].std()) for i in range(n)]\n",
        "print(mean_std)\n",
        "print(mean_std[0][0])"
      ]
    },
    {
      "cell_type": "code",
      "execution_count": null,
      "id": "ebb7d76a-2af1-418d-9552-4c1c67862277",
      "metadata": {
        "colab": {
          "base_uri": "https://localhost:8080/"
        },
        "id": "ebb7d76a-2af1-418d-9552-4c1c67862277",
        "outputId": "efe27902-8e4f-4dac-d106-56d39e84fa15"
      },
      "outputs": [
        {
          "output_type": "stream",
          "name": "stdout",
          "text": [
            "(0, 1)\n",
            "(1, 20)\n",
            "(2, 30)\n",
            "1\n",
            "20\n",
            "30\n"
          ]
        }
      ],
      "source": [
        "c = [1, 20, 30]\n",
        "for k in enumerate(c):\n",
        "    print(k)\n",
        "for k,l in enumerate(c):\n",
        "    print(l)"
      ]
    },
    {
      "cell_type": "code",
      "execution_count": null,
      "id": "66d2349a-008c-44fa-8634-855d9f442f4d",
      "metadata": {
        "colab": {
          "base_uri": "https://localhost:8080/"
        },
        "id": "66d2349a-008c-44fa-8634-855d9f442f4d",
        "outputId": "15ab2245-dba5-42b2-ff0d-bc31c85156ce"
      },
      "outputs": [
        {
          "output_type": "stream",
          "name": "stdout",
          "text": [
            "[-9.88486154 -8.63727528]\n",
            "[np.int64(1)]\n"
          ]
        }
      ],
      "source": [
        "prediction = []\n",
        "\n",
        "for X in Test_data:\n",
        "    class_scores = np.zeros(n_class)\n",
        "\n",
        "    for i,c in enumerate(classes):\n",
        "        class_scores[i] = np.log(class_probs[c])\n",
        "        for j in range(n):\n",
        "            mean, std = mean_std[c][j]\n",
        "\n",
        "            exponent = -((X[j] - mean) ** 2)/ (2 * std ** 2)\n",
        "            class_scores[i] += np.log(1 / (np.sqrt(2 * np.pi) * std)) + exponent\n",
        "\n",
        "    predicted_class = classes[np.argmax(class_scores)]\n",
        "    prediction.append(predicted_class)\n",
        "\n",
        "print(class_scores)\n",
        "print(prediction)"
      ]
    },
    {
      "cell_type": "code",
      "execution_count": null,
      "id": "451da377-420e-40ed-9efb-6d26b146ba98",
      "metadata": {
        "id": "451da377-420e-40ed-9efb-6d26b146ba98"
      },
      "outputs": [],
      "source": []
    }
  ],
  "metadata": {
    "kernelspec": {
      "display_name": "Python 3 (ipykernel)",
      "language": "python",
      "name": "python3"
    },
    "language_info": {
      "codemirror_mode": {
        "name": "ipython",
        "version": 3
      },
      "file_extension": ".py",
      "mimetype": "text/x-python",
      "name": "python",
      "nbconvert_exporter": "python",
      "pygments_lexer": "ipython3",
      "version": "3.12.7"
    },
    "colab": {
      "provenance": []
    }
  },
  "nbformat": 4,
  "nbformat_minor": 5
}