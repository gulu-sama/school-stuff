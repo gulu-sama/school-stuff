{
  "nbformat": 4,
  "nbformat_minor": 0,
  "metadata": {
    "colab": {
      "provenance": []
    },
    "kernelspec": {
      "name": "python3",
      "display_name": "Python 3"
    },
    "language_info": {
      "name": "python"
    }
  },
  "cells": [
    {
      "cell_type": "code",
      "execution_count": null,
      "metadata": {
        "id": "vHYqdgxHswuz",
        "colab": {
          "base_uri": "https://localhost:8080/"
        },
        "outputId": "12576a06-81bf-48f1-8fee-61c8142a3ec3"
      },
      "outputs": [
        {
          "output_type": "stream",
          "name": "stdout",
          "text": [
            "Enter number of processes: 3\n",
            "Enter burst time of process 1: 7\n",
            "Enter burst time of process 2: 5\n",
            "Enter burst time of process 3: 3\n",
            "[[1, 7], [2, 5], [3, 3]]\n"
          ]
        }
      ],
      "source": [
        "n = int(input(\"Enter number of processes: \"))\n",
        "processes = []\n",
        "\n",
        "for i in range(n):\n",
        "    pid=i+1\n",
        "    #at = int(input(f\"Enter arrival time of process {i+1}: \"))\n",
        "    bt = int(input(f\"Enter burst time of process {i+1}: \"))\n",
        "    processes.append([pid,bt])\n",
        "\n",
        "#processes.sort(key=lambda x: x[1])\n",
        "print(processes)"
      ]
    },
    {
      "cell_type": "code",
      "source": [
        "q = 2  #time quantum\n",
        "completion_time = {}\n",
        "remaining_burst_time = {p[0]: p[1] for p in processes}\n",
        "time = 0  #arrival time\n",
        "queue = [p[0] for p in processes]\n",
        "\n",
        "while queue:\n",
        "    pid = queue.pop(0)\n",
        "    if remaining_burst_time[pid] > q:\n",
        "        time += q\n",
        "        remaining_burst_time[pid] -= q\n",
        "        queue.append(pid)\n",
        "    else:\n",
        "        time += remaining_burst_time[pid]\n",
        "        completion_time[pid] = time\n",
        "        remaining_burst_time[pid] = 0\n",
        "\n",
        "print(\"Completion times:\")\n",
        "for pid, ct in completion_time.items():\n",
        "    print(f\"Process {pid}: {ct}\")"
      ],
      "metadata": {
        "colab": {
          "base_uri": "https://localhost:8080/"
        },
        "id": "Ydsje8Fn80tH",
        "outputId": "0c218ca7-8c6a-43e5-99f1-4dff6430d02b"
      },
      "execution_count": null,
      "outputs": [
        {
          "output_type": "stream",
          "name": "stdout",
          "text": [
            "Completion times:\n",
            "Process 3: 11\n",
            "Process 2: 14\n",
            "Process 1: 15\n"
          ]
        }
      ]
    },
    {
      "cell_type": "code",
      "source": [
        "#turn around time\n",
        "turn_around_time = {pid: ct for pid, ct in completion_time.items()}\n",
        "print(\"\\nTurn around times:\")\n",
        "for pid, tat in turn_around_time.items():\n",
        "    print(f\"Process {pid}: {tat}\")"
      ],
      "metadata": {
        "colab": {
          "base_uri": "https://localhost:8080/"
        },
        "id": "Fg1xHYIEB5Z6",
        "outputId": "2cf0b508-c34a-416b-c6b4-5c12241002f6"
      },
      "execution_count": null,
      "outputs": [
        {
          "output_type": "stream",
          "name": "stdout",
          "text": [
            "\n",
            "Turn around times:\n",
            "Process 3: 11\n",
            "Process 2: 14\n",
            "Process 1: 15\n"
          ]
        }
      ]
    },
    {
      "cell_type": "code",
      "source": [
        "#waiting time\n",
        "waiting_time = {pid: tat - original_bt for pid, tat in turn_around_time.items() for original_bt in [p[1] for p in processes if p[0] == pid]}\n",
        "print(\"\\nWaiting times:\")\n",
        "for pid, wt in waiting_time.items():\n",
        "    print(f\"Process {pid}: {wt}\")"
      ],
      "metadata": {
        "colab": {
          "base_uri": "https://localhost:8080/"
        },
        "id": "68YHSVleDL9h",
        "outputId": "effe1c6c-4df0-4660-c2e2-91379001067c"
      },
      "execution_count": null,
      "outputs": [
        {
          "output_type": "stream",
          "name": "stdout",
          "text": [
            "\n",
            "Waiting times:\n",
            "Process 3: 8\n",
            "Process 2: 9\n",
            "Process 1: 8\n"
          ]
        }
      ]
    },
    {
      "cell_type": "code",
      "source": [
        "#average turn around time\n",
        "avg_tat = sum(turn_around_time.values()) / n\n",
        "print(f\"Average turn around time: {avg_tat}\")"
      ],
      "metadata": {
        "colab": {
          "base_uri": "https://localhost:8080/"
        },
        "id": "duyl6cqdDlai",
        "outputId": "24008d5a-27e2-4a35-af72-3b92341c07e6"
      },
      "execution_count": null,
      "outputs": [
        {
          "output_type": "stream",
          "name": "stdout",
          "text": [
            "Average turn around time: 13.333333333333334\n"
          ]
        }
      ]
    },
    {
      "cell_type": "code",
      "source": [
        "#average waiting time\n",
        "avg_wt = sum(waiting_time.values()) / n\n",
        "print(f\"Average waiting time: {avg_wt}\")"
      ],
      "metadata": {
        "colab": {
          "base_uri": "https://localhost:8080/"
        },
        "id": "_uHlvdmoEqc2",
        "outputId": "afd1d19a-ee9a-403d-eae4-3b58a3d5153f"
      },
      "execution_count": null,
      "outputs": [
        {
          "output_type": "stream",
          "name": "stdout",
          "text": [
            "Average waiting time: 8.333333333333334\n"
          ]
        }
      ]
    },
    {
      "cell_type": "code",
      "source": [
        "#cpu throughput\n",
        "total_time = max(completion_time.values())\n",
        "cpu_throughput = n / total_time\n",
        "print(f\"CPU throughput: {cpu_throughput}\")"
      ],
      "metadata": {
        "colab": {
          "base_uri": "https://localhost:8080/"
        },
        "id": "WKbNBzKkBaXX",
        "outputId": "a924c396-c4d7-44a6-fc7e-f16e12237039"
      },
      "execution_count": null,
      "outputs": [
        {
          "output_type": "stream",
          "name": "stdout",
          "text": [
            "CPU throughput: 0.2\n"
          ]
        }
      ]
    },
    {
      "cell_type": "code",
      "source": [
        "q = max([p[1] for p in processes])\n",
        "print(f\"Quantum value: {q}\")  #FCFS"
      ],
      "metadata": {
        "colab": {
          "base_uri": "https://localhost:8080/"
        },
        "id": "TRPc0LvSFOvQ",
        "outputId": "a6fab89a-1129-4346-b642-70a82c175bff"
      },
      "execution_count": null,
      "outputs": [
        {
          "output_type": "stream",
          "name": "stdout",
          "text": [
            "Quantum value: 7\n"
          ]
        }
      ]
    },
    {
      "cell_type": "code",
      "source": [
        "import matplotlib.pyplot as plt"
      ],
      "metadata": {
        "id": "B1eEzxP3GRQI"
      },
      "execution_count": null,
      "outputs": []
    },
    {
      "cell_type": "code",
      "source": [
        "#ploting round robin\n",
        "plt.figure(figsize=(10, 6))\n",
        "plt.bar(turn_around_time.keys(), turn_around_time.values(), label='Turn Around Time')\n",
        "plt.bar(waiting_time.keys(), waiting_time.values(), label='Waiting Time')\n",
        "plt.xlabel('Process')\n",
        "plt.ylabel('Time')\n",
        "plt.title('Round Robin Scheduling')\n",
        "plt.legend()\n",
        "plt.show(\n",
        "\n",
        "\n",
        "\n"
      ],
      "metadata": {
        "colab": {
          "base_uri": "https://localhost:8080/",
          "height": 106
        },
        "id": "7M5ytc2GFz6Y",
        "outputId": "9170b6e1-96cc-4f16-9373-db738d5bb4e1"
      },
      "execution_count": null,
      "outputs": [
        {
          "output_type": "error",
          "ename": "SyntaxError",
          "evalue": "incomplete input (ipython-input-3088350241.py, line 12)",
          "traceback": [
            "\u001b[0;36m  File \u001b[0;32m\"/tmp/ipython-input-3088350241.py\"\u001b[0;36m, line \u001b[0;32m12\u001b[0m\n\u001b[0;31m    \u001b[0m\n\u001b[0m    ^\u001b[0m\n\u001b[0;31mSyntaxError\u001b[0m\u001b[0;31m:\u001b[0m incomplete input\n"
          ]
        }
      ]
    },
    {
      "cell_type": "code",
      "source": [
        "#from pdf\n",
        "#\n",
        "#\n",
        "import matplotlib.pyplot as plt\n",
        "\n",
        "def round_robin(processes, burst_time, arrival_time, quantum):\n",
        "    n = len(processes)\n",
        "    waiting_time = [0] * n\n",
        "    turnaround_time = [0] * n\n",
        "    remaining_time = burst_time.copy()\n",
        "    completion_time = [0] * n\n",
        "    time = 0\n",
        "    timeline = []\n",
        "    gantt_chart = []\n",
        "\n",
        "    while any(remaining_time):\n",
        "        for i in range(n):\n",
        "            if remaining_time[i] > 0 and arrival_time[i] <= time:\n",
        "                if remaining_time[i] > quantum:\n",
        "                    timeline.append(processes[i])\n",
        "                    gantt_chart.append(quantum)\n",
        "                    time += quantum\n",
        "                    remaining_time[i] -= quantum\n",
        "                else:\n",
        "                    timeline.append(processes[i])\n",
        "                    gantt_chart.append(remaining_time[i])\n",
        "                    time += remaining_time[i]\n",
        "                    completion_time[i] = time\n",
        "                    waiting_time[i] = time - burst_time[i] - arrival_time[i]\n",
        "                    remaining_time[i] = 0\n",
        "            # Add a small time increment if no process is ready to run\n",
        "            elif all(r == 0 for r in remaining_time):\n",
        "                break # All processes completed\n",
        "            elif all(arrival_time[j] > time for j in range(n) if remaining_time[j] > 0):\n",
        "                 time += 1\n",
        "\n",
        "\n",
        "    for i in range(n):\n",
        "        turnaround_time[i] = completion_time[i] - arrival_time[i]\n",
        "\n",
        "    avg_waiting_time = sum(waiting_time) / n\n",
        "    avg_turnaround_time = sum(turnaround_time) / n\n",
        "\n",
        "    return avg_waiting_time, avg_turnaround_time, timeline, gantt_chart, completion_time, waiting_time, turnaround_time\n",
        "\n",
        "def main():\n",
        "    n = int(input(\"Enter the number of processes: \"))\n",
        "    processes = [f\"P{i+1}\" for i in range(n)]\n",
        "    arrival_time = [int(input(f\"Enter arrival time for {processes[i]}: \")) for i in range(n)]\n",
        "    burst_time = [int(input(f\"Enter burst time for {processes[i]}: \")) for i in range(n)]\n",
        "    quantum = int(input(\"Enter time quantum: \"))\n",
        "\n",
        "    avg_waiting_time, avg_turnaround_time, timeline, gantt_chart, completion_time, waiting_time, turnaround_time = round_robin(processes, burst_time, arrival_time, quantum)\n",
        "\n",
        "    # Print the table\n",
        "    print(\"Process\\tArrival Time\\tBurst Time\\tCompletion Time\\tWaiting Time\\tTurnaround Time\")\n",
        "    for i in range(n):\n",
        "        print(f\"{processes[i]}\\t\\t{arrival_time[i]}\\t\\t{burst_time[i]}\\t\\t{completion_time[i]}\\t\\t{waiting_time[i]}\\t\\t{turnaround_time[i]}\")\n",
        "\n",
        "    print(f\"\\nAverage Waiting Time: {avg_waiting_time:.2f}\")\n",
        "    print(f\"Average Turnaround Time: {avg_turnaround_time:.2f}\")\n",
        "\n",
        "    # Plot the Gantt chart\n",
        "    plt.figure(figsize=(10, 3))\n",
        "    plt.bar(range(len(gantt_chart)), gantt_chart, tick_label=timeline)\n",
        "    plt.xlabel('Time')\n",
        "    plt.ylabel('Burst Time')\n",
        "    plt.title(f'Round Robin Gantt Chart (Time Quantum = {quantum})')\n",
        "    plt.show()\n",
        "\n",
        "'''\n",
        "    # Plot the graph for AWT vs. Time Quantum\n",
        "    quantum_values = list(range(1, 11))\n",
        "    avg_waiting_times = []\n",
        "    for quantum_value in quantum_values:\n",
        "        # Need to create copies of arrival_time and burst_time for each simulation\n",
        "        avg_waiting_time , _, _, _, _, _, _ = round_robin(processes, burst_time.copy(), arrival_time.copy(), quantum_value)\n",
        "        avg_waiting_times.append(avg_waiting_time)\n",
        "\n",
        "    plt.figure(figsize=(8, 4))\n",
        "    plt.plot(quantum_values, avg_waiting_times, marker='o')\n",
        "    plt.xlabel('Time Quantum')\n",
        "    plt.ylabel('Average Waiting Time')\n",
        "    plt.title('Average Waiting Time (AWT) vs. Time Quantum')\n",
        "    plt.grid(True)\n",
        "    plt.show()\n",
        "\n",
        "    # Plot the graph for ATAT vs. Time Quantum\n",
        "    avg_turnaround_times = []\n",
        "    for quantum_value in quantum_values:\n",
        "        # Need to create copies of arrival_time and burst_time for each simulation\n",
        "        _, avg_turnaround_time, _, _, _, _, _ = round_robin(processes, burst_time.copy(), arrival_time.copy(), quantum_value)\n",
        "        avg_turnaround_times.append(avg_turnaround_time)\n",
        "\n",
        "    plt.figure(figsize=(8, 4))\n",
        "    plt.plot(quantum_values, avg_turnaround_times, marker='x', color='orange')\n",
        "    plt.xlabel('Time Quantum')\n",
        "    plt.ylabel('Average Turnaround Time')\n",
        "    plt.title('Average Turnaround Time (ATAT) vs. Time Quantum')\n",
        "    plt.grid(True)\n",
        "    plt.show()\n",
        "\n",
        "'''\n",
        "main()"
      ],
      "metadata": {
        "colab": {
          "base_uri": "https://localhost:8080/",
          "height": 593
        },
        "id": "WEKpudmrKSa0",
        "outputId": "a65f8a72-d4a7-4dba-eaf0-d934ccdc690b"
      },
      "execution_count": null,
      "outputs": [
        {
          "output_type": "stream",
          "name": "stdout",
          "text": [
            "Enter the number of processes: 3\n",
            "Enter arrival time for P1: 0\n",
            "Enter arrival time for P2: 0\n",
            "Enter arrival time for P3: 0\n",
            "Enter burst time for P1: 7\n",
            "Enter burst time for P2: 5\n",
            "Enter burst time for P3: 3\n",
            "Enter time quantum: 2\n",
            "Process\tArrival Time\tBurst Time\tCompletion Time\tWaiting Time\tTurnaround Time\n",
            "P1\t\t0\t\t7\t\t15\t\t8\t\t15\n",
            "P2\t\t0\t\t5\t\t14\t\t9\t\t14\n",
            "P3\t\t0\t\t3\t\t11\t\t8\t\t11\n",
            "\n",
            "Average Waiting Time: 8.33\n",
            "Average Turnaround Time: 13.33\n"
          ]
        },
        {
          "output_type": "display_data",
          "data": {
            "text/plain": [
              "<Figure size 1000x300 with 1 Axes>"
            ],
            "image/png": "[encoded data removed]"
          },
          "metadata": {}
        }
      ]
    }
  ]
}