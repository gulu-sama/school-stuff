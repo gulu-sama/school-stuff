{
  "nbformat": 4,
  "nbformat_minor": 0,
  "metadata": {
    "colab": {
      "provenance": []
    },
    "kernelspec": {
      "name": "python3",
      "display_name": "Python 3"
    },
    "language_info": {
      "name": "python"
    }
  },
  "cells": [
    {
      "cell_type": "code",
      "source": [
        "n = int(input(\"enter the no of process:\"))\n",
        "process = []\n",
        "for i in range(n):\n",
        "  pid = int(input(\"enter the process id:\"))\n",
        "  at = int(input(\"enter the arrival time:\"))\n",
        "  bt = int(input(\"enter the burst time:\"))\n",
        "  process.append([pid,at,bt])\n",
        "print(process)"
      ],
      "metadata": {
        "colab": {
          "base_uri": "https://localhost:8080/"
        },
        "id": "FFWN2c1fonGA",
        "outputId": "e50ec715-7459-4150-ff83-595a0f9dfbb9"
      },
      "execution_count": null,
      "outputs": [
        {
          "output_type": "stream",
          "name": "stdout",
          "text": [
            "enter the no of process:4\n",
            "enter the process id:1\n",
            "enter the arrival time:0\n",
            "enter the burst time:7\n",
            "enter the process id:2\n",
            "enter the arrival time:0\n",
            "enter the burst time:4\n",
            "enter the process id:3\n",
            "enter the arrival time:0\n",
            "enter the burst time:3\n",
            "enter the process id:4\n",
            "enter the arrival time:0\n",
            "enter the burst time:1\n",
            "[[1, 0, 7], [2, 0, 4], [3, 0, 3], [4, 0, 1]]\n"
          ]
        }
      ]
    },
    {
      "cell_type": "markdown",
      "source": [
        "#FCFS"
      ],
      "metadata": {
        "id": "Re6oHjvpET0D"
      }
    },
    {
      "cell_type": "code",
      "source": [
        "at_next = process[0][1] + process[0][2]\n",
        "print(f\"completion time{[process[0][0]]} : {at_next}\")\n",
        "for i in range(1,n):\n",
        "  if process[i][1] > at_next:\n",
        "    start_time = process[i][1]\n",
        "  else:\n",
        "    start_time = at_next\n",
        "  at_next = start_time + process[i][2]\n",
        "  print(f\"completion time{[process[i][0]]} : {at_next}\")"
      ],
      "metadata": {
        "colab": {
          "base_uri": "https://localhost:8080/"
        },
        "id": "vVid_y0Nt-ew",
        "outputId": "67be9276-5376-4596-c9dc-b05fd6adc024"
      },
      "execution_count": null,
      "outputs": [
        {
          "output_type": "stream",
          "name": "stdout",
          "text": [
            "completion time[1] : 7\n",
            "completion time[2] : 11\n",
            "completion time[3] : 14\n",
            "completion time[4] : 15\n"
          ]
        }
      ]
    },
    {
      "cell_type": "code",
      "source": [
        "#FCFS\n",
        "\n",
        "completion_time = []\n",
        "waiting_time = []\n",
        "turnaround_time = []\n",
        "\n",
        "completion_time.append(process[0][1] + process[0][2])\n",
        "turnaround_time.append(completion_time[0] - process[0][1])\n",
        "waiting_time.append(turnaround_time[0] - process[0][2])\n",
        "\n",
        "for i in range(1, n):\n",
        "  completion_time.append(max(completion_time[i-1], process[i][1]) + process[i][2])\n",
        "  turnaround_time.append(completion_time[i] - process[i][1])\n",
        "  waiting_time.append(turnaround_time[i] - process[i][2])\n",
        "\n",
        "print(\"Process\\tArrival Time\\tBurst Time\\tCompletion Time\\tTurnaround Time\\tWaiting Time\")\n",
        "for i in range(n):\n",
        "  print(f\"{process[i][0]}\\t{process[i][1]}\\t\\t{process[i][2]}\\t\\t{completion_time[i]}\\t\\t{turnaround_time[i]}\\t\\t{waiting_time[i]}\")"
      ],
      "metadata": {
        "colab": {
          "base_uri": "https://localhost:8080/"
        },
        "id": "l9m4496U4kCX",
        "outputId": "4b0ee115-3e42-47b8-aad6-4642de916c14"
      },
      "execution_count": null,
      "outputs": [
        {
          "output_type": "stream",
          "name": "stdout",
          "text": [
            "Process\tArrival Time\tBurst Time\tCompletion Time\tTurnaround Time\tWaiting Time\n",
            "1\t0\t\t7\t\t7\t\t7\t\t0\n",
            "2\t0\t\t4\t\t11\t\t11\t\t7\n",
            "3\t0\t\t3\t\t14\t\t14\t\t11\n",
            "4\t0\t\t1\t\t15\t\t15\t\t14\n"
          ]
        }
      ]
    },
    {
      "cell_type": "markdown",
      "source": [],
      "metadata": {
        "id": "60EsJO8xEwb9"
      }
    },
    {
      "cell_type": "markdown",
      "source": [
        "#SJF\n"
      ],
      "metadata": {
        "id": "xV5ZoPUjE0J1"
      }
    },
    {
      "cell_type": "code",
      "source": [
        "n = int(input(\"enter the no of process:\"))\n",
        "process = []\n",
        "for i in range(n):\n",
        "  pid = int(input(\"enter the process id:\"))\n",
        "  at = int(input(\"enter the arrival time:\"))\n",
        "  bt = int(input(\"enter the burst time:\"))\n",
        "  process.append([pid,at,bt])\n",
        "print(process)"
      ],
      "metadata": {
        "colab": {
          "base_uri": "https://localhost:8080/"
        },
        "id": "om3ChDuaE_Od",
        "outputId": "b9c3bc1f-cde4-493c-9e9f-5454e646a828"
      },
      "execution_count": null,
      "outputs": [
        {
          "output_type": "stream",
          "name": "stdout",
          "text": [
            "enter the no of process:4\n",
            "enter the process id:1\n",
            "enter the arrival time:3\n",
            "enter the burst time:4\n",
            "enter the process id:2\n",
            "enter the arrival time:5\n",
            "enter the burst time:3\n",
            "enter the process id:3\n",
            "enter the arrival time:0\n",
            "enter the burst time:2\n",
            "enter the process id:4\n",
            "enter the arrival time:4\n",
            "enter the burst time:3\n",
            "[[1, 3, 4], [2, 5, 3], [3, 0, 2], [4, 4, 3]]\n"
          ]
        }
      ]
    },
    {
      "cell_type": "code",
      "source": [
        "#SJF\n",
        "completion_time = {}\n",
        "waiting_time = {}\n",
        "turnaround_time = {}\n",
        "\n",
        "sorted_processes = sorted(process, key=lambda x: x[1])\n",
        "\n",
        "current_time = 0\n",
        "\n",
        "for pid, at, bt in sorted_processes:\n",
        "    if current_time < at:\n",
        "        current_time = at\n",
        "    current_time += bt\n",
        "    completion_time[pid] = current_time\n",
        "    turnaround_time[pid] = completion_time[pid] - at\n",
        "    waiting_time[pid] = turnaround_time[pid] - bt\n",
        "\n",
        "print(\"Process\\tArrival Time\\tBurst Time\\tCompletion Time\\tTurnaround Time\\tWaiting Time\")\n",
        "\n",
        "original_pids = [p[0] for p in process]\n",
        "for pid in original_pids:\n",
        "\n",
        "    original_process_info = next((p for p in process if p[0] == pid), None)\n",
        "    if original_process_info:\n",
        "        at = original_process_info[1]\n",
        "        bt = original_process_info[2]\n",
        "        print(f\"{pid}\\t{at}\\t\\t{bt}\\t\\t{completion_time.get(pid, 'N/A')}\\t\\t{turnaround_time.get(pid, 'N/A')}\\t\\t{waiting_time.get(pid, 'N/A')}\")"
      ],
      "metadata": {
        "colab": {
          "base_uri": "https://localhost:8080/"
        },
        "id": "91DC22JjsNC4",
        "outputId": "27b5c3ec-1317-4bf2-e96d-e6d1e1f0e6bc"
      },
      "execution_count": null,
      "outputs": [
        {
          "output_type": "stream",
          "name": "stdout",
          "text": [
            "Process\tArrival Time\tBurst Time\tCompletion Time\tTurnaround Time\tWaiting Time\n",
            "1\t3\t\t4\t\t7\t\t4\t\t0\n",
            "2\t5\t\t3\t\t13\t\t8\t\t5\n",
            "3\t0\t\t2\t\t2\t\t2\t\t0\n",
            "4\t4\t\t3\t\t10\t\t6\t\t3\n"
          ]
        }
      ]
    },
    {
      "cell_type": "code",
      "metadata": {
        "colab": {
          "base_uri": "https://localhost:8080/"
        },
        "id": "1de49840",
        "outputId": "802b6a08-75b7-403f-8b45-fb92c3f87db9"
      },
      "source": [
        "total_waiting_time = sum(waiting_time.values())\n",
        "total_turnaround_time = sum(turnaround_time.values())\n",
        "num_processes = len(process)\n",
        "\n",
        "average_waiting_time = total_waiting_time / num_processes\n",
        "average_turnaround_time = total_turnaround_time / num_processes\n",
        "\n",
        "print(f\"\\nAverage Waiting Time: {average_waiting_time:.2f}\")\n",
        "print(f\"Average Turnaround Time: {average_turnaround_time:.2f}\")"
      ],
      "execution_count": null,
      "outputs": [
        {
          "output_type": "stream",
          "name": "stdout",
          "text": [
            "\n",
            "Average Waiting Time: 2.00\n",
            "Average Turnaround Time: 5.00\n"
          ]
        }
      ]
    },
    {
      "cell_type": "markdown",
      "source": [
        "preemptive sjf"
      ],
      "metadata": {
        "id": "uvEMoNK7xwKS"
      }
    },
    {
      "cell_type": "code",
      "source": [
        "process = [\n",
        "    (1, 3, 4),\n",
        "    (2, 5, 3),\n",
        "    (3, 0, 2),\n",
        "    (4, 4, 3)\n",
        "]\n",
        "\n",
        "n = len(process)\n",
        "\n",
        "# Initialize dictionaries\n",
        "remaining_time = {pid: bt for pid, at, bt in process}\n",
        "completion_time = {}\n",
        "waiting_time = {}\n",
        "turnaround_time = {}\n",
        "\n",
        "# Sort by arrival time\n",
        "process.sort(key=lambda x: x[1])\n",
        "\n",
        "# For simulation\n",
        "current_time = 0\n",
        "completed = 0\n",
        "ready_queue = []\n",
        "visited = [False] * n\n",
        "last_pid = -1\n",
        "\n",
        "# Main loop until all processes are completed\n",
        "while completed < n:\n",
        "    # Add newly arrived processes to ready queue\n",
        "    for i in range(n):\n",
        "        pid, at, bt = process[i]\n",
        "        if at == current_time and not visited[i]:\n",
        "            ready_queue.append((pid, at, bt))\n",
        "            visited[i] = True\n",
        "\n",
        "    # Select process with the shortest remaining time\n",
        "    available = [\n",
        "        (pid, at, bt) for (pid, at, bt) in ready_queue if remaining_time[pid] > 0\n",
        "    ]\n",
        "\n",
        "    if available:\n",
        "        # Pick process with shortest remaining time\n",
        "        current_process = min(available, key=lambda x: remaining_time[x[0]])\n",
        "        pid, at, bt = current_process\n",
        "\n",
        "        # Execute 1 unit of time\n",
        "        remaining_time[pid] -= 1\n",
        "        current_time += 1\n",
        "\n",
        "        if remaining_time[pid] == 0:\n",
        "            completion_time[pid] = current_time\n",
        "            completed += 1\n",
        "\n",
        "    else:\n",
        "        # If no process is available, just move forward\n",
        "        current_time += 1\n",
        "\n",
        "# Calculate Turnaround Time and Waiting Time\n",
        "for pid, at, bt in process:\n",
        "    tat = completion_time[pid] - at\n",
        "    wt = tat - bt\n",
        "    turnaround_time[pid] = tat\n",
        "    waiting_time[pid] = wt\n",
        "\n",
        "# Print results\n",
        "print(\"Process\\tArrival Time\\tBurst Time\\tCompletion Time\\tTurnaround Time\\tWaiting Time\")\n",
        "for pid, at, bt in process:\n",
        "    print(f\"{pid}\\t{at}\\t\\t{bt}\\t\\t{completion_time[pid]}\\t\\t{turnaround_time[pid]}\\t\\t{waiting_time[pid]}\")\n"
      ],
      "metadata": {
        "colab": {
          "base_uri": "https://localhost:8080/"
        },
        "id": "srSqSXTSx0ri",
        "outputId": "5b400c12-581c-4982-abab-c2ff3d7b8389"
      },
      "execution_count": null,
      "outputs": [
        {
          "output_type": "stream",
          "name": "stdout",
          "text": [
            "Process\tArrival Time\tBurst Time\tCompletion Time\tTurnaround Time\tWaiting Time\n",
            "3\t0\t\t2\t\t2\t\t2\t\t0\n",
            "1\t3\t\t4\t\t7\t\t4\t\t0\n",
            "4\t4\t\t3\t\t10\t\t6\t\t3\n",
            "2\t5\t\t3\t\t13\t\t8\t\t5\n"
          ]
        }
      ]
    },
    {
      "cell_type": "code",
      "source": [],
      "metadata": {
        "id": "6EftjV2Iy2I5"
      },
      "execution_count": null,
      "outputs": []
    }
  ]
}