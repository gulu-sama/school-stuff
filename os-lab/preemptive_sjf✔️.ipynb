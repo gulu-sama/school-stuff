{
  "nbformat": 4,
  "nbformat_minor": 0,
  "metadata": {
    "colab": {
      "provenance": []
    },
    "kernelspec": {
      "name": "python3",
      "display_name": "Python 3"
    },
    "language_info": {
      "name": "python"
    }
  },
  "cells": [
    {
      "cell_type": "code",
      "execution_count": 11,
      "metadata": {
        "colab": {
          "base_uri": "https://localhost:8080/"
        },
        "id": "yBadtuHgbHLb",
        "outputId": "811000d9-9d37-4ea9-8171-21b69d09fc6e"
      },
      "outputs": [
        {
          "output_type": "stream",
          "name": "stdout",
          "text": [
            "Process\tArrival Time\tBurst Time\tCompletion Time\tTurnaround Time\tWaiting Time\n",
            "3\t0\t\t2\t\t2\t\t2\t\t0\n",
            "1\t3\t\t4\t\t7\t\t4\t\t0\n",
            "4\t4\t\t3\t\t10\t\t6\t\t3\n",
            "2\t5\t\t3\t\t13\t\t8\t\t5\n"
          ]
        }
      ],
      "source": [
        "process = [\n",
        "    (1, 3, 4),\n",
        "    (2, 5, 3),\n",
        "    (3, 0, 2),\n",
        "    (4, 4, 3)\n",
        "]\n",
        "\n",
        "n = len(process)\n",
        "\n",
        "# Initialize dictionaries\n",
        "remaining_time = {pid: bt for pid, at, bt in process}\n",
        "completion_time = {}\n",
        "waiting_time = {}\n",
        "turnaround_time = {}\n",
        "\n",
        "# Sort by arrival time\n",
        "process.sort(key=lambda x: x[1])\n",
        "\n",
        "# For simulation\n",
        "current_time = 0\n",
        "completed = 0\n",
        "ready_queue = []\n",
        "visited = [False] * n\n",
        "last_pid = -1\n",
        "\n",
        "# Main loop until all processes are completed\n",
        "while completed < n:\n",
        "    # Add newly arrived processes to ready queue\n",
        "    for i in range(n):\n",
        "        pid, at, bt = process[i]\n",
        "        if at == current_time and not visited[i]:\n",
        "            ready_queue.append((pid, at, bt))\n",
        "            visited[i] = True\n",
        "\n",
        "    # Select process with the shortest remaining time\n",
        "    available = [\n",
        "        (pid, at, bt) for (pid, at, bt) in ready_queue if remaining_time[pid] > 0\n",
        "    ]\n",
        "\n",
        "    if available:\n",
        "        # Pick process with shortest remaining time\n",
        "        current_process = min(available, key=lambda x: remaining_time[x[0]])\n",
        "        pid, at, bt = current_process\n",
        "\n",
        "        # Execute 1 unit of time\n",
        "        remaining_time[pid] -= 1\n",
        "        current_time += 1\n",
        "\n",
        "        if remaining_time[pid] == 0:\n",
        "            completion_time[pid] = current_time\n",
        "            completed += 1\n",
        "\n",
        "    else:\n",
        "        # If no process is available, just move forward\n",
        "        current_time += 1\n",
        "\n",
        "# Calculate Turnaround Time and Waiting Time\n",
        "for pid, at, bt in process:\n",
        "    tat = completion_time[pid] - at\n",
        "    wt = tat - bt\n",
        "    turnaround_time[pid] = tat\n",
        "    waiting_time[pid] = wt\n",
        "\n",
        "# Print results\n",
        "print(\"Process\\tArrival Time\\tBurst Time\\tCompletion Time\\tTurnaround Time\\tWaiting Time\")\n",
        "for pid, at, bt in process:\n",
        "    print(f\"{pid}\\t{at}\\t\\t{bt}\\t\\t{completion_time[pid]}\\t\\t{turnaround_time[pid]}\\t\\t{waiting_time[pid]}\")\n"
      ]
    }
  ]
}