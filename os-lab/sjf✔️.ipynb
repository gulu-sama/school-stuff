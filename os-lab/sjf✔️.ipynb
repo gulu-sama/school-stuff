{
  "nbformat": 4,
  "nbformat_minor": 0,
  "metadata": {
    "colab": {
      "provenance": []
    },
    "kernelspec": {
      "name": "python3",
      "display_name": "Python 3"
    },
    "language_info": {
      "name": "python"
    }
  },
  "cells": [
    {
      "cell_type": "markdown",
      "source": [
        "#take AT, BT user input\n"
      ],
      "metadata": {
        "id": "fVo9Ws5Qb1mW"
      }
    },
    {
      "cell_type": "code",
      "execution_count": 8,
      "metadata": {
        "colab": {
          "base_uri": "https://localhost:8080/"
        },
        "id": "yBadtuHgbHLb",
        "outputId": "37cacaaa-5b8c-4bcb-b408-dcbf631ac11e"
      },
      "outputs": [
        {
          "output_type": "stream",
          "name": "stdout",
          "text": [
            "enter the no of process:4\n",
            "enter the arrival time for process 1:3\n",
            "enter the burst time for process 1:4\n",
            "enter the arrival time for process 2:5\n",
            "enter the burst time for process 2:3\n",
            "enter the arrival time for process 3:0\n",
            "enter the burst time for process 3:2\n",
            "enter the arrival time for process 4:4\n",
            "enter the burst time for process 4:3\n",
            "[[1, 3, 4], [2, 5, 3], [3, 0, 2], [4, 4, 3]]\n"
          ]
        }
      ],
      "source": [
        "n = int(input(\"enter the no of process:\"))\n",
        "process = []\n",
        "for i in range(n):\n",
        "  pid = i+1 # Automate the process id\n",
        "  at = int(input(f\"enter the arrival time for process {pid}:\"))\n",
        "  bt = int(input(f\"enter the burst time for process {pid}:\"))\n",
        "  process.append([pid,at,bt])\n",
        "print(process)"
      ]
    },
    {
      "cell_type": "markdown",
      "source": [
        "#calculate CT, TAT & WT"
      ],
      "metadata": {
        "id": "AyQMbytacEQP"
      }
    },
    {
      "cell_type": "code",
      "source": [
        "#SJF\n",
        "completion_time = {}\n",
        "waiting_time = {}\n",
        "turnaround_time = {}\n",
        "\n",
        "sorted_processes = sorted(process, key=lambda x: x[1])\n",
        "\n",
        "current_time = 0\n",
        "\n",
        "for pid, at, bt in sorted_processes:\n",
        "    if current_time < at:\n",
        "        current_time = at\n",
        "    current_time += bt\n",
        "    completion_time[pid] = current_time\n",
        "    turnaround_time[pid] = completion_time[pid] - at\n",
        "    waiting_time[pid] = turnaround_time[pid] - bt\n",
        "\n",
        "print(\"Process\\tArrival Time\\tBurst Time\\tCompletion Time\\tTurnaround Time\\tWaiting Time\")\n",
        "\n",
        "original_pids = [p[0] for p in process]\n",
        "for pid in original_pids:\n",
        "\n",
        "    original_process_info = next((p for p in process if p[0] == pid), None)\n",
        "    if original_process_info:\n",
        "        at = original_process_info[1]\n",
        "        bt = original_process_info[2]\n",
        "        print(f\"{pid}\\t{at}\\t\\t{bt}\\t\\t{completion_time.get(pid, 'N/A')}\\t\\t{turnaround_time.get(pid, 'N/A')}\\t\\t{waiting_time.get(pid, 'N/A')}\")"
      ],
      "metadata": {
        "colab": {
          "base_uri": "https://localhost:8080/"
        },
        "id": "wSZOw5FvcTJY",
        "outputId": "450b3590-9bb8-4e4c-8a75-4279d0c2867c"
      },
      "execution_count": 9,
      "outputs": [
        {
          "output_type": "stream",
          "name": "stdout",
          "text": [
            "Process\tArrival Time\tBurst Time\tCompletion Time\tTurnaround Time\tWaiting Time\n",
            "1\t3\t\t4\t\t7\t\t4\t\t0\n",
            "2\t5\t\t3\t\t13\t\t8\t\t5\n",
            "3\t0\t\t2\t\t2\t\t2\t\t0\n",
            "4\t4\t\t3\t\t10\t\t6\t\t3\n"
          ]
        }
      ]
    },
    {
      "cell_type": "markdown",
      "source": [
        "#avg AT & avg TAT"
      ],
      "metadata": {
        "id": "UcJOL6nVdatQ"
      }
    },
    {
      "cell_type": "code",
      "source": [
        "total_waiting_time = sum(waiting_time.values())\n",
        "total_turnaround_time = sum(turnaround_time.values())\n",
        "num_processes = len(process)\n",
        "\n",
        "average_waiting_time = total_waiting_time / num_processes\n",
        "average_turnaround_time = total_turnaround_time / num_processes\n",
        "\n",
        "print(f\"\\nAverage Waiting Time: {average_waiting_time:.2f}\")\n",
        "print(f\"Average Turnaround Time: {average_turnaround_time:.2f}\")"
      ],
      "metadata": {
        "colab": {
          "base_uri": "https://localhost:8080/"
        },
        "id": "btTE867odfzY",
        "outputId": "b8da0701-848a-4a63-a068-d81d95ddc0de"
      },
      "execution_count": 10,
      "outputs": [
        {
          "output_type": "stream",
          "name": "stdout",
          "text": [
            "\n",
            "Average Waiting Time: 2.00\n",
            "Average Turnaround Time: 5.00\n"
          ]
        }
      ]
    }
  ]
}