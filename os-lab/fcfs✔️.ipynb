{
  "nbformat": 4,
  "nbformat_minor": 0,
  "metadata": {
    "colab": {
      "provenance": []
    },
    "kernelspec": {
      "name": "python3",
      "display_name": "Python 3"
    },
    "language_info": {
      "name": "python"
    }
  },
  "cells": [
    {
      "cell_type": "markdown",
      "source": [
        "#take AT, BT user input\n"
      ],
      "metadata": {
        "id": "fVo9Ws5Qb1mW"
      }
    },
    {
      "cell_type": "code",
      "execution_count": 5,
      "metadata": {
        "colab": {
          "base_uri": "https://localhost:8080/"
        },
        "id": "yBadtuHgbHLb",
        "outputId": "88341661-7afd-4853-e16b-2b8e9fa50a03"
      },
      "outputs": [
        {
          "output_type": "stream",
          "name": "stdout",
          "text": [
            "enter the no of process:4\n",
            "enter the arrival time for process 1:0\n",
            "enter the burst time for process 1:7\n",
            "enter the arrival time for process 2:0\n",
            "enter the burst time for process 2:4\n",
            "enter the arrival time for process 3:0\n",
            "enter the burst time for process 3:3\n",
            "enter the arrival time for process 4:0\n",
            "enter the burst time for process 4:1\n",
            "[[1, 0, 7], [2, 0, 4], [3, 0, 3], [4, 0, 1]]\n"
          ]
        }
      ],
      "source": [
        "n = int(input(\"enter the no of process:\"))\n",
        "process = []\n",
        "for i in range(n):\n",
        "  pid = i+1 # Automate the process id\n",
        "  at = int(input(f\"enter the arrival time for process {pid}:\"))\n",
        "  bt = int(input(f\"enter the burst time for process {pid}:\"))\n",
        "  process.append([pid,at,bt])\n",
        "print(process)"
      ]
    },
    {
      "cell_type": "markdown",
      "source": [
        "#calculate CT"
      ],
      "metadata": {
        "id": "z5EwUga2b746"
      }
    },
    {
      "cell_type": "code",
      "source": [
        "at_next = process[0][1] + process[0][2]\n",
        "print(f\"completion time{[process[0][0]]} : {at_next}\")\n",
        "for i in range(1,n):\n",
        "  if process[i][1] > at_next:\n",
        "    start_time = process[i][1]\n",
        "  else:\n",
        "    start_time = at_next\n",
        "  at_next = start_time + process[i][2]\n",
        "  print(f\"completion time{[process[i][0]]} : {at_next}\")"
      ],
      "metadata": {
        "colab": {
          "base_uri": "https://localhost:8080/"
        },
        "id": "DApcyb55b-pv",
        "outputId": "6669eb1b-19e8-4c59-fb76-389bd0f84370"
      },
      "execution_count": 6,
      "outputs": [
        {
          "output_type": "stream",
          "name": "stdout",
          "text": [
            "completion time[1] : 7\n",
            "completion time[2] : 11\n",
            "completion time[3] : 14\n",
            "completion time[4] : 15\n"
          ]
        }
      ]
    },
    {
      "cell_type": "markdown",
      "source": [
        "#calculate TAT & WT"
      ],
      "metadata": {
        "id": "AyQMbytacEQP"
      }
    },
    {
      "cell_type": "code",
      "source": [
        "completion_time = []\n",
        "waiting_time = []\n",
        "turnaround_time = []\n",
        "\n",
        "completion_time.append(process[0][1] + process[0][2])\n",
        "turnaround_time.append(completion_time[0] - process[0][1])\n",
        "waiting_time.append(turnaround_time[0] - process[0][2])\n",
        "\n",
        "for i in range(1, n):\n",
        "  completion_time.append(max(completion_time[i-1], process[i][1]) + process[i][2])\n",
        "  turnaround_time.append(completion_time[i] - process[i][1])\n",
        "  waiting_time.append(turnaround_time[i] - process[i][2])\n",
        "\n",
        "print(\"Process\\tArrival Time\\tBurst Time\\tCompletion Time\\tTurnaround Time\\tWaiting Time\")\n",
        "for i in range(n):\n",
        "  print(f\"{process[i][0]}\\t{process[i][1]}\\t\\t{process[i][2]}\\t\\t{completion_time[i]}\\t\\t{turnaround_time[i]}\\t\\t{waiting_time[i]}\")"
      ],
      "metadata": {
        "colab": {
          "base_uri": "https://localhost:8080/"
        },
        "id": "wSZOw5FvcTJY",
        "outputId": "f956b27c-6b51-4477-b5fa-16747363334a"
      },
      "execution_count": 7,
      "outputs": [
        {
          "output_type": "stream",
          "name": "stdout",
          "text": [
            "Process\tArrival Time\tBurst Time\tCompletion Time\tTurnaround Time\tWaiting Time\n",
            "1\t0\t\t7\t\t7\t\t7\t\t0\n",
            "2\t0\t\t4\t\t11\t\t11\t\t7\n",
            "3\t0\t\t3\t\t14\t\t14\t\t11\n",
            "4\t0\t\t1\t\t15\t\t15\t\t14\n"
          ]
        }
      ]
    }
  ]
}